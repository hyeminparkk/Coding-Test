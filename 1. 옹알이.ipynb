{
 "cells": [
  {
   "attachments": {},
   "cell_type": "markdown",
   "metadata": {},
   "source": [
    "## **1. 옹알이**\n",
    "- 머쓱이는 태어난 지 6개월 된 조카를 돌보고 있습니다. 조카는 아직 \"aya\", \"ye\", \"woo\", \"ma\" 네 가지 발음을 최대 한 번씩 사용해 조합한(이어 붙인) 발음밖에 하지 못합니다. 문자열 배열 babbling이 매개변수로 주어질 때, 머쓱이의 조카가 발음할 수 있는 단어의 개수를 return하도록 solution 함수를 완성해주세요."
   ]
  },
  {
   "cell_type": "code",
   "execution_count": 11,
   "metadata": {},
   "outputs": [],
   "source": [
    "# 머쓱이가 말 할 수 있는 발음\n",
    "speek = ['aya', 'ye', 'woo', 'ma']"
   ]
  },
  {
   "cell_type": "code",
   "execution_count": 13,
   "metadata": {},
   "outputs": [
    {
     "data": {
      "text/plain": [
       "['aya',\n",
       " 'ye',\n",
       " 'woo',\n",
       " 'ma',\n",
       " 'ayaye',\n",
       " 'ayawoo',\n",
       " 'ayama',\n",
       " 'yeaya',\n",
       " 'yewoo',\n",
       " 'yema',\n",
       " 'wooaya',\n",
       " 'wooye',\n",
       " 'wooma',\n",
       " 'maaya',\n",
       " 'maye',\n",
       " 'mawoo',\n",
       " 'ayayewoo',\n",
       " 'ayayema',\n",
       " 'ayawooye',\n",
       " 'ayawooma',\n",
       " 'ayamaye',\n",
       " 'ayamawoo',\n",
       " 'yeayawoo',\n",
       " 'yeayama',\n",
       " 'yewooaya',\n",
       " 'yewooma',\n",
       " 'yemaaya',\n",
       " 'yemawoo',\n",
       " 'wooayaye',\n",
       " 'wooayama',\n",
       " 'wooyeaya',\n",
       " 'wooyema',\n",
       " 'woomaaya',\n",
       " 'woomaye',\n",
       " 'maayaye',\n",
       " 'maayawoo',\n",
       " 'mayeaya',\n",
       " 'mayewoo',\n",
       " 'mawooaya',\n",
       " 'mawooye',\n",
       " 'ayayewooma',\n",
       " 'ayayemawoo',\n",
       " 'ayawooyema',\n",
       " 'ayawoomaye',\n",
       " 'ayamayewoo',\n",
       " 'ayamawooye',\n",
       " 'yeayawooma',\n",
       " 'yeayamawoo',\n",
       " 'yewooayama',\n",
       " 'yewoomaaya',\n",
       " 'yemaayawoo',\n",
       " 'yemawooaya',\n",
       " 'wooayayema',\n",
       " 'wooayamaye',\n",
       " 'wooyeayama',\n",
       " 'wooyemaaya',\n",
       " 'woomaayaye',\n",
       " 'woomayeaya',\n",
       " 'maayayewoo',\n",
       " 'maayawooye',\n",
       " 'mayeayawoo',\n",
       " 'mayewooaya',\n",
       " 'mawooayaye',\n",
       " 'mawooyeaya']"
      ]
     },
     "execution_count": 13,
     "metadata": {},
     "output_type": "execute_result"
    }
   ],
   "source": [
    "# 최대 한 번씩 사용해 조합한 발음만 가능 -> 각 한 번 씩만 사용\n",
    "from itertools import permutations\n",
    "word = [] \n",
    "for i in range(1, len(speek)+1): \n",
    "    for j in permutations(speek, i): # 4개까지 조합되록 ! 그 이상이 되면 2번 사용하는 발음도 생기기 때문\n",
    "        word.append(''.join(j)) # ''기호로 묶여있기에 join 함수 써서 연결\n",
    "word # 1개부터 2개 조합, 3개 조합, 4개 조합 발음 생김"
   ]
  },
  {
   "cell_type": "code",
   "execution_count": 14,
   "metadata": {},
   "outputs": [
    {
     "data": {
      "text/plain": [
       "1"
      ]
     },
     "execution_count": 14,
     "metadata": {},
     "output_type": "execute_result"
    }
   ],
   "source": [
    "# babbling이 매개변수로 주어진 경우\n",
    "babbling = [\"aya\", \"yee\", \"u\", \"maa\", \"wyeoo\"]\n",
    "answer = 0\n",
    "for i in babbling:\n",
    "    if i in word: # 만약 babbling에 있는 단어가 word에 포함된다면 1씩 추가\n",
    "        answer += 1\n",
    "answer"
   ]
  },
  {
   "cell_type": "code",
   "execution_count": 15,
   "metadata": {},
   "outputs": [
    {
     "data": {
      "text/plain": [
       "3"
      ]
     },
     "execution_count": 15,
     "metadata": {},
     "output_type": "execute_result"
    }
   ],
   "source": [
    "# babbling이 매개변수로 주어진 경우\n",
    "babbling = [\"ayaye\", \"uuuma\", \"ye\", \"yemawoo\", \"ayaa\"]\n",
    "answer = 0\n",
    "for i in babbling:\n",
    "    if i in word: # 만약 babbling에 있는 단어가 word에 포함된다면 1씩 추가\n",
    "        answer += 1\n",
    "answer"
   ]
  },
  {
   "cell_type": "code",
   "execution_count": 16,
   "metadata": {},
   "outputs": [],
   "source": [
    "from itertools import permutations\n",
    "def solution(babbling):\n",
    "    answer = 0\n",
    "    speek = [\"aya\",\"ye\",\"woo\",\"ma\"]\n",
    "    word = []\n",
    "    for i in range(1, len(speek)+1):\n",
    "        for j in permutations(speek, i):\n",
    "            word.append(''.join(j))\n",
    "\n",
    "    for i in babbling:\n",
    "        if i in word:\n",
    "            answer += 1\n",
    "    return answer"
   ]
  },
  {
   "cell_type": "code",
   "execution_count": 17,
   "metadata": {},
   "outputs": [
    {
     "data": {
      "text/plain": [
       "1"
      ]
     },
     "execution_count": 17,
     "metadata": {},
     "output_type": "execute_result"
    }
   ],
   "source": [
    "babbling = [\"aya\", \"yee\", \"u\", \"maa\", \"wyeoo\"]\n",
    "solution(babbling)"
   ]
  },
  {
   "cell_type": "code",
   "execution_count": 18,
   "metadata": {},
   "outputs": [
    {
     "data": {
      "text/plain": [
       "3"
      ]
     },
     "execution_count": 18,
     "metadata": {},
     "output_type": "execute_result"
    }
   ],
   "source": [
    "babbling = [\"ayaye\", \"uuuma\", \"ye\", \"yemawoo\", \"ayaa\"]\n",
    "solution(babbling)"
   ]
  }
 ],
 "metadata": {
  "kernelspec": {
   "display_name": "Python 3",
   "language": "python",
   "name": "python3"
  },
  "language_info": {
   "codemirror_mode": {
    "name": "ipython",
    "version": 3
   },
   "file_extension": ".py",
   "mimetype": "text/x-python",
   "name": "python",
   "nbconvert_exporter": "python",
   "pygments_lexer": "ipython3",
   "version": "3.10.7"
  },
  "orig_nbformat": 4,
  "vscode": {
   "interpreter": {
    "hash": "a27045bf5bf9047ebf3975ed17baacbf35043dbfcfadee1ce3b14e031ff2cf32"
   }
  }
 },
 "nbformat": 4,
 "nbformat_minor": 2
}
